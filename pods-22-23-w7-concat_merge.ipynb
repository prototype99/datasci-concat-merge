{
 "cells": [
  {
   "cell_type": "markdown",
   "metadata": {
    "id": "g9GkeGKJT1LE",
    "toc": "true"
   },
   "source": [
    "# Table of Contents\n",
    " <p><div class=\"lev1 toc-item\"><a href=\"#Data-Integration\" data-toc-modified-id=\"Data-Integration-1\"><span class=\"toc-item-num\">1&nbsp;&nbsp;</span>Data Integration</a></div><div class=\"lev2 toc-item\"><a href=\"#Concatenating-(Stacking)-DataFrames-with-Index-Alignment\" data-toc-modified-id=\"Concatenating-(Stacking)-DataFrames-with-Index-Alignment-11\"><span class=\"toc-item-num\">1.1&nbsp;&nbsp;</span>Concatenating (Stacking) DataFrames with Index Alignment</a></div><div class=\"lev2 toc-item\"><a href=\"#The-Employee-Example-DB\" data-toc-modified-id=\"The-Employee-Example-DB-12\"><span class=\"toc-item-num\">1.2&nbsp;&nbsp;</span>The Employee Example DB</a></div><div class=\"lev2 toc-item\"><a href=\"#Joining-DataFrames\" data-toc-modified-id=\"Joining-DataFrames-13\"><span class=\"toc-item-num\">1.3&nbsp;&nbsp;</span>Joining DataFrames</a></div><div class=\"lev2 toc-item\"><a href=\"#Checkpoint\" data-toc-modified-id=\"Checkpoint-14\"><span class=\"toc-item-num\">1.4&nbsp;&nbsp;</span>Checkpoint</a></div>"
   ]
  },
  {
   "cell_type": "markdown",
   "metadata": {
    "id": "NtQlWI4-T1LE"
   },
   "source": [
    "# Data Integration (`.concat()`, `.merge()`)\n",
    "\n",
    "In a wide range of situations, a data scientist will find data of interest is found in separate, but related datasets. Usually, for more effective data analysis and modelling (particularly in machine learning), one must merge these into a single, combined dataset. \n",
    "\n",
    "Take the example of analysis of climate variation and change in a certain geographical region of the planet. The necessary data weather measurements (e.g., daily temperatures) might have been collected separately by weather stations placed across the region. In order to gain broader insights about the data, those individual datasets must be combined.\n",
    "\n",
    "Another scenario assumes that there are separate datasets for students and units, and one needs to query information that comes from both (e.g., unit's number of credits and student name). Typically, keys (e.g., `student_id`) are relied upon in the integration procedure.\n",
    "\n",
    "It has beem claimed said (original source?) that about 80% of a data scientist's time and effort goes into data wrangling, and integration is part of that. All sorts of challenges one might face here, such as datasets with unmatching and inconsistent schemas, data types, ranges, and units of measurement, to mention a few. \n",
    "\n",
    "We have already seen `.concat` and index alignment for combining datasets. We then now explore `.merge` for joining datasets that are related by _keys_ (similar to working with relational databases and `JOIN`). A new example database `employee_db` with a set of related datasets is used."
   ]
  },
  {
   "cell_type": "markdown",
   "metadata": {
    "id": "73Rfkr6RT1LE"
   },
   "source": [
    "The usual preamble for importing the essential modules and configuring the plotting engine."
   ]
  },
  {
   "cell_type": "code",
   "execution_count": 220,
   "metadata": {
    "id": "9vKy-tfAT1LE"
   },
   "outputs": [],
   "source": [
    "%config InlineBackend.figure_format = 'retina'\n",
    "import pandas as pd\n",
    "import numpy as np\n",
    "import matplotlib.pyplot as plt\n",
    "import seaborn as sns\n",
    "sns.set(rc={'figure.figsize': (8,6)}, style='ticks', context='notebook')"
   ]
  },
  {
   "cell_type": "markdown",
   "metadata": {
    "id": "gVLc7cuNT1LF"
   },
   "source": [
    "## The Employee Example DB\n",
    "\n",
    "The zip file containing the set of `.csv` files can be obtained from. As usual, decompress it and place the relevant datasets into a suitable location (e.g., your OneDrive area).\n",
    "\n",
    "Briefly, we have `employees` that work for `departments` based in certain `locations` that exist in `countries` which are placed in `regions`. The full set of relationships is as follows:\n",
    "\n",
    "* `employees(department_id) -> departments(department_id)`\n",
    "* `employees(manager_id) -> employees(employee_id)` (the manager is another employee)\n",
    "* `departments(manager_id) -> employes(employee_id)`\n",
    "* `departments(location_id) -> location(location_id)`\n",
    "* `location(country_id) -> countries(country_id)`\n",
    "* `countries(region_id) -> regions(region_id)`"
   ]
  },
  {
   "cell_type": "code",
   "execution_count": 221,
   "metadata": {
    "id": "2jxK80srT1LF"
   },
   "outputs": [
    {
     "data": {
      "text/plain": "   employee_id first_name last_name     email  phone_number   hire_date  \\\n0          100     Steven      King     SKING  515.123.4567  1987-06-17   \n1          101      Neena   Kochhar  NKOCHHAR  515.123.4568  1989-09-21   \n2          102        Lex   De Haan   LDEHAAN  515.123.4569  1993-01-13   \n3          103  Alexander    Hunold   AHUNOLD  590.423.4567  1990-01-03   \n4          104      Bruce     Ernst    BERNST  590.423.4568  1991-05-21   \n\n    job_id   salary  commission_pct  manager_id  department_id  \n0  AD_PRES  24000.0             NaN         NaN           90.0  \n1    AD_VP  17000.0             NaN       100.0           90.0  \n2    AD_VP  17000.0             NaN       100.0           90.0  \n3  IT_PROG   9000.0             NaN       102.0           60.0  \n4  IT_PROG   6000.0             NaN       103.0           60.0  ",
      "text/html": "<div>\n<style scoped>\n    .dataframe tbody tr th:only-of-type {\n        vertical-align: middle;\n    }\n\n    .dataframe tbody tr th {\n        vertical-align: top;\n    }\n\n    .dataframe thead th {\n        text-align: right;\n    }\n</style>\n<table border=\"1\" class=\"dataframe\">\n  <thead>\n    <tr style=\"text-align: right;\">\n      <th></th>\n      <th>employee_id</th>\n      <th>first_name</th>\n      <th>last_name</th>\n      <th>email</th>\n      <th>phone_number</th>\n      <th>hire_date</th>\n      <th>job_id</th>\n      <th>salary</th>\n      <th>commission_pct</th>\n      <th>manager_id</th>\n      <th>department_id</th>\n    </tr>\n  </thead>\n  <tbody>\n    <tr>\n      <th>0</th>\n      <td>100</td>\n      <td>Steven</td>\n      <td>King</td>\n      <td>SKING</td>\n      <td>515.123.4567</td>\n      <td>1987-06-17</td>\n      <td>AD_PRES</td>\n      <td>24000.0</td>\n      <td>NaN</td>\n      <td>NaN</td>\n      <td>90.0</td>\n    </tr>\n    <tr>\n      <th>1</th>\n      <td>101</td>\n      <td>Neena</td>\n      <td>Kochhar</td>\n      <td>NKOCHHAR</td>\n      <td>515.123.4568</td>\n      <td>1989-09-21</td>\n      <td>AD_VP</td>\n      <td>17000.0</td>\n      <td>NaN</td>\n      <td>100.0</td>\n      <td>90.0</td>\n    </tr>\n    <tr>\n      <th>2</th>\n      <td>102</td>\n      <td>Lex</td>\n      <td>De Haan</td>\n      <td>LDEHAAN</td>\n      <td>515.123.4569</td>\n      <td>1993-01-13</td>\n      <td>AD_VP</td>\n      <td>17000.0</td>\n      <td>NaN</td>\n      <td>100.0</td>\n      <td>90.0</td>\n    </tr>\n    <tr>\n      <th>3</th>\n      <td>103</td>\n      <td>Alexander</td>\n      <td>Hunold</td>\n      <td>AHUNOLD</td>\n      <td>590.423.4567</td>\n      <td>1990-01-03</td>\n      <td>IT_PROG</td>\n      <td>9000.0</td>\n      <td>NaN</td>\n      <td>102.0</td>\n      <td>60.0</td>\n    </tr>\n    <tr>\n      <th>4</th>\n      <td>104</td>\n      <td>Bruce</td>\n      <td>Ernst</td>\n      <td>BERNST</td>\n      <td>590.423.4568</td>\n      <td>1991-05-21</td>\n      <td>IT_PROG</td>\n      <td>6000.0</td>\n      <td>NaN</td>\n      <td>103.0</td>\n      <td>60.0</td>\n    </tr>\n  </tbody>\n</table>\n</div>"
     },
     "execution_count": 221,
     "metadata": {},
     "output_type": "execute_result"
    }
   ],
   "source": [
    "employees_df = pd.read_csv('./data/employees.csv')\n",
    "employees_df.head()"
   ]
  },
  {
   "cell_type": "code",
   "execution_count": 222,
   "metadata": {
    "id": "N-zkjMlDT1LF"
   },
   "outputs": [
    {
     "data": {
      "text/plain": "   department_id   department_name  manager_id  location_id\n0             10    Administration       200.0         1700\n1             20         Marketing       201.0         1800\n2             30        Purchasing       114.0         1700\n3             40   Human Resources       203.0         2400\n4             50          Shipping       121.0         1500\n5             60                IT       103.0         1400\n6             70  Public Relations       204.0         2700\n7             80             Sales       145.0         2500\n8             90         Executive       100.0         1700\n9            100           Finance       108.0         1700",
      "text/html": "<div>\n<style scoped>\n    .dataframe tbody tr th:only-of-type {\n        vertical-align: middle;\n    }\n\n    .dataframe tbody tr th {\n        vertical-align: top;\n    }\n\n    .dataframe thead th {\n        text-align: right;\n    }\n</style>\n<table border=\"1\" class=\"dataframe\">\n  <thead>\n    <tr style=\"text-align: right;\">\n      <th></th>\n      <th>department_id</th>\n      <th>department_name</th>\n      <th>manager_id</th>\n      <th>location_id</th>\n    </tr>\n  </thead>\n  <tbody>\n    <tr>\n      <th>0</th>\n      <td>10</td>\n      <td>Administration</td>\n      <td>200.0</td>\n      <td>1700</td>\n    </tr>\n    <tr>\n      <th>1</th>\n      <td>20</td>\n      <td>Marketing</td>\n      <td>201.0</td>\n      <td>1800</td>\n    </tr>\n    <tr>\n      <th>2</th>\n      <td>30</td>\n      <td>Purchasing</td>\n      <td>114.0</td>\n      <td>1700</td>\n    </tr>\n    <tr>\n      <th>3</th>\n      <td>40</td>\n      <td>Human Resources</td>\n      <td>203.0</td>\n      <td>2400</td>\n    </tr>\n    <tr>\n      <th>4</th>\n      <td>50</td>\n      <td>Shipping</td>\n      <td>121.0</td>\n      <td>1500</td>\n    </tr>\n    <tr>\n      <th>5</th>\n      <td>60</td>\n      <td>IT</td>\n      <td>103.0</td>\n      <td>1400</td>\n    </tr>\n    <tr>\n      <th>6</th>\n      <td>70</td>\n      <td>Public Relations</td>\n      <td>204.0</td>\n      <td>2700</td>\n    </tr>\n    <tr>\n      <th>7</th>\n      <td>80</td>\n      <td>Sales</td>\n      <td>145.0</td>\n      <td>2500</td>\n    </tr>\n    <tr>\n      <th>8</th>\n      <td>90</td>\n      <td>Executive</td>\n      <td>100.0</td>\n      <td>1700</td>\n    </tr>\n    <tr>\n      <th>9</th>\n      <td>100</td>\n      <td>Finance</td>\n      <td>108.0</td>\n      <td>1700</td>\n    </tr>\n  </tbody>\n</table>\n</div>"
     },
     "execution_count": 222,
     "metadata": {},
     "output_type": "execute_result"
    }
   ],
   "source": [
    "departments_df = pd.read_csv('./data/departments.csv')\n",
    "departments_df.head(10)"
   ]
  },
  {
   "cell_type": "code",
   "execution_count": 223,
   "metadata": {
    "id": "7UGr1fiuT1LF"
   },
   "outputs": [
    {
     "data": {
      "text/plain": "   location_id           street_address postal_code       city  \\\n0         1000     1297 Via Cola di Rie       00989       Roma   \n1         1100  93091 Calle della Testa       10934     Venice   \n2         1200         2017 Shinjuku-ku        1689      Tokyo   \n3         1300          9450 Kamiya-cho        6823  Hiroshima   \n4         1400      2014 Jabberwocky Rd       26192  Southlake   \n\n     state_province country_id  \n0               NaN         IT  \n1               NaN         IT  \n2  Tokyo Prefecture         JP  \n3               NaN         JP  \n4             Texas         US  ",
      "text/html": "<div>\n<style scoped>\n    .dataframe tbody tr th:only-of-type {\n        vertical-align: middle;\n    }\n\n    .dataframe tbody tr th {\n        vertical-align: top;\n    }\n\n    .dataframe thead th {\n        text-align: right;\n    }\n</style>\n<table border=\"1\" class=\"dataframe\">\n  <thead>\n    <tr style=\"text-align: right;\">\n      <th></th>\n      <th>location_id</th>\n      <th>street_address</th>\n      <th>postal_code</th>\n      <th>city</th>\n      <th>state_province</th>\n      <th>country_id</th>\n    </tr>\n  </thead>\n  <tbody>\n    <tr>\n      <th>0</th>\n      <td>1000</td>\n      <td>1297 Via Cola di Rie</td>\n      <td>00989</td>\n      <td>Roma</td>\n      <td>NaN</td>\n      <td>IT</td>\n    </tr>\n    <tr>\n      <th>1</th>\n      <td>1100</td>\n      <td>93091 Calle della Testa</td>\n      <td>10934</td>\n      <td>Venice</td>\n      <td>NaN</td>\n      <td>IT</td>\n    </tr>\n    <tr>\n      <th>2</th>\n      <td>1200</td>\n      <td>2017 Shinjuku-ku</td>\n      <td>1689</td>\n      <td>Tokyo</td>\n      <td>Tokyo Prefecture</td>\n      <td>JP</td>\n    </tr>\n    <tr>\n      <th>3</th>\n      <td>1300</td>\n      <td>9450 Kamiya-cho</td>\n      <td>6823</td>\n      <td>Hiroshima</td>\n      <td>NaN</td>\n      <td>JP</td>\n    </tr>\n    <tr>\n      <th>4</th>\n      <td>1400</td>\n      <td>2014 Jabberwocky Rd</td>\n      <td>26192</td>\n      <td>Southlake</td>\n      <td>Texas</td>\n      <td>US</td>\n    </tr>\n  </tbody>\n</table>\n</div>"
     },
     "execution_count": 223,
     "metadata": {},
     "output_type": "execute_result"
    }
   ],
   "source": [
    "locations_df = pd.read_csv('./data/locations.csv')\n",
    "locations_df.head()"
   ]
  },
  {
   "cell_type": "code",
   "execution_count": 224,
   "metadata": {
    "id": "RLlrOLd7T1LF"
   },
   "outputs": [
    {
     "data": {
      "text/plain": "  country_id              country_name  region_id\n0         IT                     Italy          1\n1         JP                     Japan          3\n2         US  United States of America          2\n3         CA                    Canada          2\n4         CN                     China          3",
      "text/html": "<div>\n<style scoped>\n    .dataframe tbody tr th:only-of-type {\n        vertical-align: middle;\n    }\n\n    .dataframe tbody tr th {\n        vertical-align: top;\n    }\n\n    .dataframe thead th {\n        text-align: right;\n    }\n</style>\n<table border=\"1\" class=\"dataframe\">\n  <thead>\n    <tr style=\"text-align: right;\">\n      <th></th>\n      <th>country_id</th>\n      <th>country_name</th>\n      <th>region_id</th>\n    </tr>\n  </thead>\n  <tbody>\n    <tr>\n      <th>0</th>\n      <td>IT</td>\n      <td>Italy</td>\n      <td>1</td>\n    </tr>\n    <tr>\n      <th>1</th>\n      <td>JP</td>\n      <td>Japan</td>\n      <td>3</td>\n    </tr>\n    <tr>\n      <th>2</th>\n      <td>US</td>\n      <td>United States of America</td>\n      <td>2</td>\n    </tr>\n    <tr>\n      <th>3</th>\n      <td>CA</td>\n      <td>Canada</td>\n      <td>2</td>\n    </tr>\n    <tr>\n      <th>4</th>\n      <td>CN</td>\n      <td>China</td>\n      <td>3</td>\n    </tr>\n  </tbody>\n</table>\n</div>"
     },
     "execution_count": 224,
     "metadata": {},
     "output_type": "execute_result"
    }
   ],
   "source": [
    "countries_df = pd.read_csv('./data/countries.csv')\n",
    "countries_df.head()"
   ]
  },
  {
   "cell_type": "code",
   "execution_count": 225,
   "metadata": {
    "id": "cgweCXkST1LF"
   },
   "outputs": [
    {
     "data": {
      "text/plain": "   region_id             region_name\n0          1                  Europe\n1          2                Americas\n2          3                    Asia\n3          4  Middle East and Africa",
      "text/html": "<div>\n<style scoped>\n    .dataframe tbody tr th:only-of-type {\n        vertical-align: middle;\n    }\n\n    .dataframe tbody tr th {\n        vertical-align: top;\n    }\n\n    .dataframe thead th {\n        text-align: right;\n    }\n</style>\n<table border=\"1\" class=\"dataframe\">\n  <thead>\n    <tr style=\"text-align: right;\">\n      <th></th>\n      <th>region_id</th>\n      <th>region_name</th>\n    </tr>\n  </thead>\n  <tbody>\n    <tr>\n      <th>0</th>\n      <td>1</td>\n      <td>Europe</td>\n    </tr>\n    <tr>\n      <th>1</th>\n      <td>2</td>\n      <td>Americas</td>\n    </tr>\n    <tr>\n      <th>2</th>\n      <td>3</td>\n      <td>Asia</td>\n    </tr>\n    <tr>\n      <th>3</th>\n      <td>4</td>\n      <td>Middle East and Africa</td>\n    </tr>\n  </tbody>\n</table>\n</div>"
     },
     "execution_count": 225,
     "metadata": {},
     "output_type": "execute_result"
    }
   ],
   "source": [
    "regions_df = pd.read_csv('./data/regions.csv')\n",
    "regions_df.head()"
   ]
  },
  {
   "cell_type": "markdown",
   "metadata": {
    "id": "pHomFYfKT1LG"
   },
   "source": [
    "## Joining DataFrames\n",
    "\n",
    "In many situations, following good practices of _relational database design_ to, for example, prevent issues with data replication and update anomalies, data is spread across different datasets that are related by __keys__. In relational database's terminology, one dataset's __foreign key__ links to a dataset's __primary key__ (the latter, a unique identifier for each) instance of data.\n",
    "\n",
    "For example, `employees(department_id)` is a foreign key to `departments(department_id)`. Those columns and their matching values are used to keep records (e.g., rows) from both datasets related.\n",
    "\n",
    "In such cases, more often than not, _interesting questions_ about the data require __joining datasets__. With `pandas`, a natural way of achieving this is via the method `.merge`."
   ]
  },
  {
   "cell_type": "code",
   "execution_count": 226,
   "metadata": {
    "id": "EFGbdGYOT1LG"
   },
   "outputs": [
    {
     "data": {
      "text/plain": "  country_id              country_name  region_id\n0         IT                     Italy          1\n1         JP                     Japan          3\n2         US  United States of America          2\n3         CA                    Canada          2\n4         CN                     China          3",
      "text/html": "<div>\n<style scoped>\n    .dataframe tbody tr th:only-of-type {\n        vertical-align: middle;\n    }\n\n    .dataframe tbody tr th {\n        vertical-align: top;\n    }\n\n    .dataframe thead th {\n        text-align: right;\n    }\n</style>\n<table border=\"1\" class=\"dataframe\">\n  <thead>\n    <tr style=\"text-align: right;\">\n      <th></th>\n      <th>country_id</th>\n      <th>country_name</th>\n      <th>region_id</th>\n    </tr>\n  </thead>\n  <tbody>\n    <tr>\n      <th>0</th>\n      <td>IT</td>\n      <td>Italy</td>\n      <td>1</td>\n    </tr>\n    <tr>\n      <th>1</th>\n      <td>JP</td>\n      <td>Japan</td>\n      <td>3</td>\n    </tr>\n    <tr>\n      <th>2</th>\n      <td>US</td>\n      <td>United States of America</td>\n      <td>2</td>\n    </tr>\n    <tr>\n      <th>3</th>\n      <td>CA</td>\n      <td>Canada</td>\n      <td>2</td>\n    </tr>\n    <tr>\n      <th>4</th>\n      <td>CN</td>\n      <td>China</td>\n      <td>3</td>\n    </tr>\n  </tbody>\n</table>\n</div>"
     },
     "execution_count": 226,
     "metadata": {},
     "output_type": "execute_result"
    }
   ],
   "source": [
    "countries_df.head()"
   ]
  },
  {
   "cell_type": "code",
   "execution_count": 227,
   "metadata": {
    "id": "cC6tEC4GT1LG"
   },
   "outputs": [
    {
     "data": {
      "text/plain": "   region_id             region_name\n0          1                  Europe\n1          2                Americas\n2          3                    Asia\n3          4  Middle East and Africa",
      "text/html": "<div>\n<style scoped>\n    .dataframe tbody tr th:only-of-type {\n        vertical-align: middle;\n    }\n\n    .dataframe tbody tr th {\n        vertical-align: top;\n    }\n\n    .dataframe thead th {\n        text-align: right;\n    }\n</style>\n<table border=\"1\" class=\"dataframe\">\n  <thead>\n    <tr style=\"text-align: right;\">\n      <th></th>\n      <th>region_id</th>\n      <th>region_name</th>\n    </tr>\n  </thead>\n  <tbody>\n    <tr>\n      <th>0</th>\n      <td>1</td>\n      <td>Europe</td>\n    </tr>\n    <tr>\n      <th>1</th>\n      <td>2</td>\n      <td>Americas</td>\n    </tr>\n    <tr>\n      <th>2</th>\n      <td>3</td>\n      <td>Asia</td>\n    </tr>\n    <tr>\n      <th>3</th>\n      <td>4</td>\n      <td>Middle East and Africa</td>\n    </tr>\n  </tbody>\n</table>\n</div>"
     },
     "execution_count": 227,
     "metadata": {},
     "output_type": "execute_result"
    }
   ],
   "source": [
    "regions_df.head()"
   ]
  },
  {
   "cell_type": "code",
   "execution_count": 228,
   "metadata": {
    "id": "iZyGP7PkT1LG"
   },
   "outputs": [
    {
     "data": {
      "text/plain": "   country_id country_name  region_id             region_name\n8          JP        Japan          3                    Asia\n16         BR       Brazil          2                Americas\n0          IT        Italy          1                  Europe\n23         IL       Israel          4  Middle East and Africa\n11         AU    Australia          3                    Asia",
      "text/html": "<div>\n<style scoped>\n    .dataframe tbody tr th:only-of-type {\n        vertical-align: middle;\n    }\n\n    .dataframe tbody tr th {\n        vertical-align: top;\n    }\n\n    .dataframe thead th {\n        text-align: right;\n    }\n</style>\n<table border=\"1\" class=\"dataframe\">\n  <thead>\n    <tr style=\"text-align: right;\">\n      <th></th>\n      <th>country_id</th>\n      <th>country_name</th>\n      <th>region_id</th>\n      <th>region_name</th>\n    </tr>\n  </thead>\n  <tbody>\n    <tr>\n      <th>8</th>\n      <td>JP</td>\n      <td>Japan</td>\n      <td>3</td>\n      <td>Asia</td>\n    </tr>\n    <tr>\n      <th>16</th>\n      <td>BR</td>\n      <td>Brazil</td>\n      <td>2</td>\n      <td>Americas</td>\n    </tr>\n    <tr>\n      <th>0</th>\n      <td>IT</td>\n      <td>Italy</td>\n      <td>1</td>\n      <td>Europe</td>\n    </tr>\n    <tr>\n      <th>23</th>\n      <td>IL</td>\n      <td>Israel</td>\n      <td>4</td>\n      <td>Middle East and Africa</td>\n    </tr>\n    <tr>\n      <th>11</th>\n      <td>AU</td>\n      <td>Australia</td>\n      <td>3</td>\n      <td>Asia</td>\n    </tr>\n  </tbody>\n</table>\n</div>"
     },
     "execution_count": 228,
     "metadata": {},
     "output_type": "execute_result"
    }
   ],
   "source": [
    "countries_df.merge(regions_df).sample(5, random_state=42)"
   ]
  },
  {
   "cell_type": "markdown",
   "metadata": {
    "id": "zUYkrMJ4T1LG"
   },
   "source": [
    "It is always good practice to check the columns of each DataFrame to verify which columns are the keys, and how they are named."
   ]
  },
  {
   "cell_type": "code",
   "execution_count": 229,
   "metadata": {
    "id": "-fSl-p6qT1LG"
   },
   "outputs": [
    {
     "data": {
      "text/plain": "Index(['employee_id', 'first_name', 'last_name', 'email', 'phone_number',\n       'hire_date', 'job_id', 'salary', 'commission_pct', 'manager_id',\n       'department_id'],\n      dtype='object')"
     },
     "execution_count": 229,
     "metadata": {},
     "output_type": "execute_result"
    }
   ],
   "source": [
    "employees_df.columns"
   ]
  },
  {
   "cell_type": "code",
   "execution_count": 230,
   "metadata": {
    "id": "q_H4Uz43T1LG"
   },
   "outputs": [
    {
     "data": {
      "text/plain": "Index(['department_id', 'department_name', 'manager_id', 'location_id'], dtype='object')"
     },
     "execution_count": 230,
     "metadata": {},
     "output_type": "execute_result"
    }
   ],
   "source": [
    "departments_df.columns"
   ]
  },
  {
   "cell_type": "code",
   "execution_count": 231,
   "metadata": {
    "id": "8b2xqq_UT1LG"
   },
   "outputs": [
    {
     "data": {
      "text/plain": "Index(['department_id', 'manager_id'], dtype='object')"
     },
     "execution_count": 231,
     "metadata": {},
     "output_type": "execute_result"
    }
   ],
   "source": [
    "# returns the intersection of two sets \n",
    "# (in this case, the columns the two DataFrames have in common)\n",
    "departments_df.columns.intersection(employees_df.columns)"
   ]
  },
  {
   "cell_type": "markdown",
   "metadata": {
    "id": "SmDALDiKT1LG"
   },
   "source": [
    "The following is an example of joining two DataFrames on a specified column they have in common; rows from the two DataFrames are concatenated based on matching values of their joining column(s) (key(s)):"
   ]
  },
  {
   "cell_type": "code",
   "execution_count": 232,
   "metadata": {
    "id": "WN1VrQK4T1LG"
   },
   "outputs": [
    {
     "data": {
      "text/plain": "   employee_id first_name last_name     email  phone_number   hire_date  \\\n0          100     Steven      King     SKING  515.123.4567  1987-06-17   \n1          101      Neena   Kochhar  NKOCHHAR  515.123.4568  1989-09-21   \n2          102        Lex   De Haan   LDEHAAN  515.123.4569  1993-01-13   \n3          103  Alexander    Hunold   AHUNOLD  590.423.4567  1990-01-03   \n4          104      Bruce     Ernst    BERNST  590.423.4568  1991-05-21   \n\n    job_id   salary  commission_pct  manager_id_x  department_id  \\\n0  AD_PRES  24000.0             NaN           NaN           90.0   \n1    AD_VP  17000.0             NaN         100.0           90.0   \n2    AD_VP  17000.0             NaN         100.0           90.0   \n3  IT_PROG   9000.0             NaN         102.0           60.0   \n4  IT_PROG   6000.0             NaN         103.0           60.0   \n\n  department_name  manager_id_y  location_id  \n0       Executive         100.0         1700  \n1       Executive         100.0         1700  \n2       Executive         100.0         1700  \n3              IT         103.0         1400  \n4              IT         103.0         1400  ",
      "text/html": "<div>\n<style scoped>\n    .dataframe tbody tr th:only-of-type {\n        vertical-align: middle;\n    }\n\n    .dataframe tbody tr th {\n        vertical-align: top;\n    }\n\n    .dataframe thead th {\n        text-align: right;\n    }\n</style>\n<table border=\"1\" class=\"dataframe\">\n  <thead>\n    <tr style=\"text-align: right;\">\n      <th></th>\n      <th>employee_id</th>\n      <th>first_name</th>\n      <th>last_name</th>\n      <th>email</th>\n      <th>phone_number</th>\n      <th>hire_date</th>\n      <th>job_id</th>\n      <th>salary</th>\n      <th>commission_pct</th>\n      <th>manager_id_x</th>\n      <th>department_id</th>\n      <th>department_name</th>\n      <th>manager_id_y</th>\n      <th>location_id</th>\n    </tr>\n  </thead>\n  <tbody>\n    <tr>\n      <th>0</th>\n      <td>100</td>\n      <td>Steven</td>\n      <td>King</td>\n      <td>SKING</td>\n      <td>515.123.4567</td>\n      <td>1987-06-17</td>\n      <td>AD_PRES</td>\n      <td>24000.0</td>\n      <td>NaN</td>\n      <td>NaN</td>\n      <td>90.0</td>\n      <td>Executive</td>\n      <td>100.0</td>\n      <td>1700</td>\n    </tr>\n    <tr>\n      <th>1</th>\n      <td>101</td>\n      <td>Neena</td>\n      <td>Kochhar</td>\n      <td>NKOCHHAR</td>\n      <td>515.123.4568</td>\n      <td>1989-09-21</td>\n      <td>AD_VP</td>\n      <td>17000.0</td>\n      <td>NaN</td>\n      <td>100.0</td>\n      <td>90.0</td>\n      <td>Executive</td>\n      <td>100.0</td>\n      <td>1700</td>\n    </tr>\n    <tr>\n      <th>2</th>\n      <td>102</td>\n      <td>Lex</td>\n      <td>De Haan</td>\n      <td>LDEHAAN</td>\n      <td>515.123.4569</td>\n      <td>1993-01-13</td>\n      <td>AD_VP</td>\n      <td>17000.0</td>\n      <td>NaN</td>\n      <td>100.0</td>\n      <td>90.0</td>\n      <td>Executive</td>\n      <td>100.0</td>\n      <td>1700</td>\n    </tr>\n    <tr>\n      <th>3</th>\n      <td>103</td>\n      <td>Alexander</td>\n      <td>Hunold</td>\n      <td>AHUNOLD</td>\n      <td>590.423.4567</td>\n      <td>1990-01-03</td>\n      <td>IT_PROG</td>\n      <td>9000.0</td>\n      <td>NaN</td>\n      <td>102.0</td>\n      <td>60.0</td>\n      <td>IT</td>\n      <td>103.0</td>\n      <td>1400</td>\n    </tr>\n    <tr>\n      <th>4</th>\n      <td>104</td>\n      <td>Bruce</td>\n      <td>Ernst</td>\n      <td>BERNST</td>\n      <td>590.423.4568</td>\n      <td>1991-05-21</td>\n      <td>IT_PROG</td>\n      <td>6000.0</td>\n      <td>NaN</td>\n      <td>103.0</td>\n      <td>60.0</td>\n      <td>IT</td>\n      <td>103.0</td>\n      <td>1400</td>\n    </tr>\n  </tbody>\n</table>\n</div>"
     },
     "execution_count": 232,
     "metadata": {},
     "output_type": "execute_result"
    }
   ],
   "source": [
    "employees_df.merge(departments_df, on='department_id').head()"
   ]
  },
  {
   "cell_type": "markdown",
   "metadata": {
    "id": "8owPZy9MT1LG"
   },
   "source": [
    "For reducing clutter and help the illustration, I'll drop some employee features for the time being."
   ]
  },
  {
   "cell_type": "code",
   "execution_count": 233,
   "metadata": {
    "id": "VI_z_qaWT1LG"
   },
   "outputs": [
    {
     "data": {
      "text/plain": "   employee_id first_name last_name   salary  department_id\n0          100     Steven      King  24000.0           90.0\n1          101      Neena   Kochhar  17000.0           90.0\n2          102        Lex   De Haan  17000.0           90.0\n3          103  Alexander    Hunold   9000.0           60.0\n4          104      Bruce     Ernst   6000.0           60.0",
      "text/html": "<div>\n<style scoped>\n    .dataframe tbody tr th:only-of-type {\n        vertical-align: middle;\n    }\n\n    .dataframe tbody tr th {\n        vertical-align: top;\n    }\n\n    .dataframe thead th {\n        text-align: right;\n    }\n</style>\n<table border=\"1\" class=\"dataframe\">\n  <thead>\n    <tr style=\"text-align: right;\">\n      <th></th>\n      <th>employee_id</th>\n      <th>first_name</th>\n      <th>last_name</th>\n      <th>salary</th>\n      <th>department_id</th>\n    </tr>\n  </thead>\n  <tbody>\n    <tr>\n      <th>0</th>\n      <td>100</td>\n      <td>Steven</td>\n      <td>King</td>\n      <td>24000.0</td>\n      <td>90.0</td>\n    </tr>\n    <tr>\n      <th>1</th>\n      <td>101</td>\n      <td>Neena</td>\n      <td>Kochhar</td>\n      <td>17000.0</td>\n      <td>90.0</td>\n    </tr>\n    <tr>\n      <th>2</th>\n      <td>102</td>\n      <td>Lex</td>\n      <td>De Haan</td>\n      <td>17000.0</td>\n      <td>90.0</td>\n    </tr>\n    <tr>\n      <th>3</th>\n      <td>103</td>\n      <td>Alexander</td>\n      <td>Hunold</td>\n      <td>9000.0</td>\n      <td>60.0</td>\n    </tr>\n    <tr>\n      <th>4</th>\n      <td>104</td>\n      <td>Bruce</td>\n      <td>Ernst</td>\n      <td>6000.0</td>\n      <td>60.0</td>\n    </tr>\n  </tbody>\n</table>\n</div>"
     },
     "execution_count": 233,
     "metadata": {},
     "output_type": "execute_result"
    }
   ],
   "source": [
    "employees_sub_df = employees_df[\n",
    "    ['employee_id', 'first_name', 'last_name', 'salary', 'department_id']\n",
    "]\n",
    "employees_sub_df.head()"
   ]
  },
  {
   "cell_type": "code",
   "execution_count": 234,
   "metadata": {
    "id": "vASFfUGOT1LG"
   },
   "outputs": [
    {
     "data": {
      "text/plain": "   employee_id first_name last_name   salary  department_id department_name  \\\n0          100     Steven      King  24000.0           90.0       Executive   \n1          101      Neena   Kochhar  17000.0           90.0       Executive   \n2          102        Lex   De Haan  17000.0           90.0       Executive   \n3          103  Alexander    Hunold   9000.0           60.0              IT   \n4          104      Bruce     Ernst   6000.0           60.0              IT   \n\n   manager_id  location_id  \n0       100.0         1700  \n1       100.0         1700  \n2       100.0         1700  \n3       103.0         1400  \n4       103.0         1400  ",
      "text/html": "<div>\n<style scoped>\n    .dataframe tbody tr th:only-of-type {\n        vertical-align: middle;\n    }\n\n    .dataframe tbody tr th {\n        vertical-align: top;\n    }\n\n    .dataframe thead th {\n        text-align: right;\n    }\n</style>\n<table border=\"1\" class=\"dataframe\">\n  <thead>\n    <tr style=\"text-align: right;\">\n      <th></th>\n      <th>employee_id</th>\n      <th>first_name</th>\n      <th>last_name</th>\n      <th>salary</th>\n      <th>department_id</th>\n      <th>department_name</th>\n      <th>manager_id</th>\n      <th>location_id</th>\n    </tr>\n  </thead>\n  <tbody>\n    <tr>\n      <th>0</th>\n      <td>100</td>\n      <td>Steven</td>\n      <td>King</td>\n      <td>24000.0</td>\n      <td>90.0</td>\n      <td>Executive</td>\n      <td>100.0</td>\n      <td>1700</td>\n    </tr>\n    <tr>\n      <th>1</th>\n      <td>101</td>\n      <td>Neena</td>\n      <td>Kochhar</td>\n      <td>17000.0</td>\n      <td>90.0</td>\n      <td>Executive</td>\n      <td>100.0</td>\n      <td>1700</td>\n    </tr>\n    <tr>\n      <th>2</th>\n      <td>102</td>\n      <td>Lex</td>\n      <td>De Haan</td>\n      <td>17000.0</td>\n      <td>90.0</td>\n      <td>Executive</td>\n      <td>100.0</td>\n      <td>1700</td>\n    </tr>\n    <tr>\n      <th>3</th>\n      <td>103</td>\n      <td>Alexander</td>\n      <td>Hunold</td>\n      <td>9000.0</td>\n      <td>60.0</td>\n      <td>IT</td>\n      <td>103.0</td>\n      <td>1400</td>\n    </tr>\n    <tr>\n      <th>4</th>\n      <td>104</td>\n      <td>Bruce</td>\n      <td>Ernst</td>\n      <td>6000.0</td>\n      <td>60.0</td>\n      <td>IT</td>\n      <td>103.0</td>\n      <td>1400</td>\n    </tr>\n  </tbody>\n</table>\n</div>"
     },
     "execution_count": 234,
     "metadata": {},
     "output_type": "execute_result"
    }
   ],
   "source": [
    "employees_sub_df.merge(departments_df, on='department_id').head()"
   ]
  },
  {
   "cell_type": "markdown",
   "metadata": {
    "id": "1utDILPAT1LG"
   },
   "source": [
    "What if names of columns do not match?"
   ]
  },
  {
   "cell_type": "code",
   "execution_count": 235,
   "metadata": {
    "id": "rI4CNDSNT1LG"
   },
   "outputs": [
    {
     "data": {
      "text/plain": "   id  department_name  manager_id  location_id\n0  10   Administration       200.0         1700\n1  20        Marketing       201.0         1800\n2  30       Purchasing       114.0         1700\n3  40  Human Resources       203.0         2400\n4  50         Shipping       121.0         1500",
      "text/html": "<div>\n<style scoped>\n    .dataframe tbody tr th:only-of-type {\n        vertical-align: middle;\n    }\n\n    .dataframe tbody tr th {\n        vertical-align: top;\n    }\n\n    .dataframe thead th {\n        text-align: right;\n    }\n</style>\n<table border=\"1\" class=\"dataframe\">\n  <thead>\n    <tr style=\"text-align: right;\">\n      <th></th>\n      <th>id</th>\n      <th>department_name</th>\n      <th>manager_id</th>\n      <th>location_id</th>\n    </tr>\n  </thead>\n  <tbody>\n    <tr>\n      <th>0</th>\n      <td>10</td>\n      <td>Administration</td>\n      <td>200.0</td>\n      <td>1700</td>\n    </tr>\n    <tr>\n      <th>1</th>\n      <td>20</td>\n      <td>Marketing</td>\n      <td>201.0</td>\n      <td>1800</td>\n    </tr>\n    <tr>\n      <th>2</th>\n      <td>30</td>\n      <td>Purchasing</td>\n      <td>114.0</td>\n      <td>1700</td>\n    </tr>\n    <tr>\n      <th>3</th>\n      <td>40</td>\n      <td>Human Resources</td>\n      <td>203.0</td>\n      <td>2400</td>\n    </tr>\n    <tr>\n      <th>4</th>\n      <td>50</td>\n      <td>Shipping</td>\n      <td>121.0</td>\n      <td>1500</td>\n    </tr>\n  </tbody>\n</table>\n</div>"
     },
     "execution_count": 235,
     "metadata": {},
     "output_type": "execute_result"
    }
   ],
   "source": [
    "departments_id_df = departments_df.rename(columns={'department_id': 'id'})\n",
    "departments_id_df.head()"
   ]
  },
  {
   "cell_type": "markdown",
   "metadata": {
    "id": "lilcZHIUT1LG"
   },
   "source": [
    "...then, use the options `left_on=` and `right_on=`."
   ]
  },
  {
   "cell_type": "code",
   "execution_count": 236,
   "metadata": {
    "id": "j8lMT1evT1LG"
   },
   "outputs": [
    {
     "data": {
      "text/plain": "   employee_id first_name last_name   salary  department_id  id  \\\n0          100     Steven      King  24000.0           90.0  90   \n1          101      Neena   Kochhar  17000.0           90.0  90   \n2          102        Lex   De Haan  17000.0           90.0  90   \n3          103  Alexander    Hunold   9000.0           60.0  60   \n4          104      Bruce     Ernst   6000.0           60.0  60   \n\n  department_name  manager_id  location_id  \n0       Executive       100.0         1700  \n1       Executive       100.0         1700  \n2       Executive       100.0         1700  \n3              IT       103.0         1400  \n4              IT       103.0         1400  ",
      "text/html": "<div>\n<style scoped>\n    .dataframe tbody tr th:only-of-type {\n        vertical-align: middle;\n    }\n\n    .dataframe tbody tr th {\n        vertical-align: top;\n    }\n\n    .dataframe thead th {\n        text-align: right;\n    }\n</style>\n<table border=\"1\" class=\"dataframe\">\n  <thead>\n    <tr style=\"text-align: right;\">\n      <th></th>\n      <th>employee_id</th>\n      <th>first_name</th>\n      <th>last_name</th>\n      <th>salary</th>\n      <th>department_id</th>\n      <th>id</th>\n      <th>department_name</th>\n      <th>manager_id</th>\n      <th>location_id</th>\n    </tr>\n  </thead>\n  <tbody>\n    <tr>\n      <th>0</th>\n      <td>100</td>\n      <td>Steven</td>\n      <td>King</td>\n      <td>24000.0</td>\n      <td>90.0</td>\n      <td>90</td>\n      <td>Executive</td>\n      <td>100.0</td>\n      <td>1700</td>\n    </tr>\n    <tr>\n      <th>1</th>\n      <td>101</td>\n      <td>Neena</td>\n      <td>Kochhar</td>\n      <td>17000.0</td>\n      <td>90.0</td>\n      <td>90</td>\n      <td>Executive</td>\n      <td>100.0</td>\n      <td>1700</td>\n    </tr>\n    <tr>\n      <th>2</th>\n      <td>102</td>\n      <td>Lex</td>\n      <td>De Haan</td>\n      <td>17000.0</td>\n      <td>90.0</td>\n      <td>90</td>\n      <td>Executive</td>\n      <td>100.0</td>\n      <td>1700</td>\n    </tr>\n    <tr>\n      <th>3</th>\n      <td>103</td>\n      <td>Alexander</td>\n      <td>Hunold</td>\n      <td>9000.0</td>\n      <td>60.0</td>\n      <td>60</td>\n      <td>IT</td>\n      <td>103.0</td>\n      <td>1400</td>\n    </tr>\n    <tr>\n      <th>4</th>\n      <td>104</td>\n      <td>Bruce</td>\n      <td>Ernst</td>\n      <td>6000.0</td>\n      <td>60.0</td>\n      <td>60</td>\n      <td>IT</td>\n      <td>103.0</td>\n      <td>1400</td>\n    </tr>\n  </tbody>\n</table>\n</div>"
     },
     "execution_count": 236,
     "metadata": {},
     "output_type": "execute_result"
    }
   ],
   "source": [
    "employees_sub_df.merge(departments_id_df, left_on='department_id', right_on='id').head()"
   ]
  },
  {
   "cell_type": "markdown",
   "metadata": {
    "id": "tpntrUm8T1LG"
   },
   "source": [
    "And if one of the matching parts is actually the row index?"
   ]
  },
  {
   "cell_type": "code",
   "execution_count": 237,
   "metadata": {
    "id": "m6nF7oyKT1LG"
   },
   "outputs": [
    {
     "data": {
      "text/plain": "               department_name  manager_id  location_id\ndepartment_id                                          \n10              Administration       200.0         1700\n20                   Marketing       201.0         1800\n30                  Purchasing       114.0         1700\n40             Human Resources       203.0         2400\n50                    Shipping       121.0         1500",
      "text/html": "<div>\n<style scoped>\n    .dataframe tbody tr th:only-of-type {\n        vertical-align: middle;\n    }\n\n    .dataframe tbody tr th {\n        vertical-align: top;\n    }\n\n    .dataframe thead th {\n        text-align: right;\n    }\n</style>\n<table border=\"1\" class=\"dataframe\">\n  <thead>\n    <tr style=\"text-align: right;\">\n      <th></th>\n      <th>department_name</th>\n      <th>manager_id</th>\n      <th>location_id</th>\n    </tr>\n    <tr>\n      <th>department_id</th>\n      <th></th>\n      <th></th>\n      <th></th>\n    </tr>\n  </thead>\n  <tbody>\n    <tr>\n      <th>10</th>\n      <td>Administration</td>\n      <td>200.0</td>\n      <td>1700</td>\n    </tr>\n    <tr>\n      <th>20</th>\n      <td>Marketing</td>\n      <td>201.0</td>\n      <td>1800</td>\n    </tr>\n    <tr>\n      <th>30</th>\n      <td>Purchasing</td>\n      <td>114.0</td>\n      <td>1700</td>\n    </tr>\n    <tr>\n      <th>40</th>\n      <td>Human Resources</td>\n      <td>203.0</td>\n      <td>2400</td>\n    </tr>\n    <tr>\n      <th>50</th>\n      <td>Shipping</td>\n      <td>121.0</td>\n      <td>1500</td>\n    </tr>\n  </tbody>\n</table>\n</div>"
     },
     "execution_count": 237,
     "metadata": {},
     "output_type": "execute_result"
    }
   ],
   "source": [
    "departments_i_df = departments_df.set_index('department_id')\n",
    "departments_i_df.head()"
   ]
  },
  {
   "cell_type": "code",
   "execution_count": 238,
   "metadata": {
    "id": "PAt1Qw69T1LG"
   },
   "outputs": [
    {
     "data": {
      "text/plain": "   employee_id first_name last_name   salary  department_id department_name  \\\n0          100     Steven      King  24000.0           90.0       Executive   \n1          101      Neena   Kochhar  17000.0           90.0       Executive   \n2          102        Lex   De Haan  17000.0           90.0       Executive   \n3          103  Alexander    Hunold   9000.0           60.0              IT   \n4          104      Bruce     Ernst   6000.0           60.0              IT   \n\n   manager_id  location_id  \n0       100.0         1700  \n1       100.0         1700  \n2       100.0         1700  \n3       103.0         1400  \n4       103.0         1400  ",
      "text/html": "<div>\n<style scoped>\n    .dataframe tbody tr th:only-of-type {\n        vertical-align: middle;\n    }\n\n    .dataframe tbody tr th {\n        vertical-align: top;\n    }\n\n    .dataframe thead th {\n        text-align: right;\n    }\n</style>\n<table border=\"1\" class=\"dataframe\">\n  <thead>\n    <tr style=\"text-align: right;\">\n      <th></th>\n      <th>employee_id</th>\n      <th>first_name</th>\n      <th>last_name</th>\n      <th>salary</th>\n      <th>department_id</th>\n      <th>department_name</th>\n      <th>manager_id</th>\n      <th>location_id</th>\n    </tr>\n  </thead>\n  <tbody>\n    <tr>\n      <th>0</th>\n      <td>100</td>\n      <td>Steven</td>\n      <td>King</td>\n      <td>24000.0</td>\n      <td>90.0</td>\n      <td>Executive</td>\n      <td>100.0</td>\n      <td>1700</td>\n    </tr>\n    <tr>\n      <th>1</th>\n      <td>101</td>\n      <td>Neena</td>\n      <td>Kochhar</td>\n      <td>17000.0</td>\n      <td>90.0</td>\n      <td>Executive</td>\n      <td>100.0</td>\n      <td>1700</td>\n    </tr>\n    <tr>\n      <th>2</th>\n      <td>102</td>\n      <td>Lex</td>\n      <td>De Haan</td>\n      <td>17000.0</td>\n      <td>90.0</td>\n      <td>Executive</td>\n      <td>100.0</td>\n      <td>1700</td>\n    </tr>\n    <tr>\n      <th>3</th>\n      <td>103</td>\n      <td>Alexander</td>\n      <td>Hunold</td>\n      <td>9000.0</td>\n      <td>60.0</td>\n      <td>IT</td>\n      <td>103.0</td>\n      <td>1400</td>\n    </tr>\n    <tr>\n      <th>4</th>\n      <td>104</td>\n      <td>Bruce</td>\n      <td>Ernst</td>\n      <td>6000.0</td>\n      <td>60.0</td>\n      <td>IT</td>\n      <td>103.0</td>\n      <td>1400</td>\n    </tr>\n  </tbody>\n</table>\n</div>"
     },
     "execution_count": 238,
     "metadata": {},
     "output_type": "execute_result"
    }
   ],
   "source": [
    "employees_sub_df.merge(departments_i_df, left_on='department_id', right_index=True).head()"
   ]
  },
  {
   "cell_type": "code",
   "execution_count": 239,
   "metadata": {
    "id": "UdvBUOrmT1LG"
   },
   "outputs": [
    {
     "data": {
      "text/plain": "    department_name  manager_id  location_id  employee_id first_name  \\\n100  Administration       200.0         1700          200   Jennifer   \n101       Marketing       201.0         1800          201    Michael   \n102       Marketing       201.0         1800          202        Pat   \n14       Purchasing       114.0         1700          114        Den   \n15       Purchasing       114.0         1700          115  Alexander   \n\n     last_name   salary  department_id  \n100     Whalen   4400.0           10.0  \n101  Hartstein  13000.0           20.0  \n102        Fay   6000.0           20.0  \n14    Raphaely  11000.0           30.0  \n15        Khoo   3100.0           30.0  ",
      "text/html": "<div>\n<style scoped>\n    .dataframe tbody tr th:only-of-type {\n        vertical-align: middle;\n    }\n\n    .dataframe tbody tr th {\n        vertical-align: top;\n    }\n\n    .dataframe thead th {\n        text-align: right;\n    }\n</style>\n<table border=\"1\" class=\"dataframe\">\n  <thead>\n    <tr style=\"text-align: right;\">\n      <th></th>\n      <th>department_name</th>\n      <th>manager_id</th>\n      <th>location_id</th>\n      <th>employee_id</th>\n      <th>first_name</th>\n      <th>last_name</th>\n      <th>salary</th>\n      <th>department_id</th>\n    </tr>\n  </thead>\n  <tbody>\n    <tr>\n      <th>100</th>\n      <td>Administration</td>\n      <td>200.0</td>\n      <td>1700</td>\n      <td>200</td>\n      <td>Jennifer</td>\n      <td>Whalen</td>\n      <td>4400.0</td>\n      <td>10.0</td>\n    </tr>\n    <tr>\n      <th>101</th>\n      <td>Marketing</td>\n      <td>201.0</td>\n      <td>1800</td>\n      <td>201</td>\n      <td>Michael</td>\n      <td>Hartstein</td>\n      <td>13000.0</td>\n      <td>20.0</td>\n    </tr>\n    <tr>\n      <th>102</th>\n      <td>Marketing</td>\n      <td>201.0</td>\n      <td>1800</td>\n      <td>202</td>\n      <td>Pat</td>\n      <td>Fay</td>\n      <td>6000.0</td>\n      <td>20.0</td>\n    </tr>\n    <tr>\n      <th>14</th>\n      <td>Purchasing</td>\n      <td>114.0</td>\n      <td>1700</td>\n      <td>114</td>\n      <td>Den</td>\n      <td>Raphaely</td>\n      <td>11000.0</td>\n      <td>30.0</td>\n    </tr>\n    <tr>\n      <th>15</th>\n      <td>Purchasing</td>\n      <td>114.0</td>\n      <td>1700</td>\n      <td>115</td>\n      <td>Alexander</td>\n      <td>Khoo</td>\n      <td>3100.0</td>\n      <td>30.0</td>\n    </tr>\n  </tbody>\n</table>\n</div>"
     },
     "execution_count": 239,
     "metadata": {},
     "output_type": "execute_result"
    }
   ],
   "source": [
    "departments_i_df.merge(employees_sub_df, left_index=True, right_on='department_id').head()"
   ]
  },
  {
   "cell_type": "markdown",
   "metadata": {
    "id": "wFxkTMVIT1LG"
   },
   "source": [
    "It is worth pointing out that `.merge` takes **two DataFrames as input** and produces a **new DataFrame as output**. As with other operations on DataFrames, one could **chain** `.merge` calls for joining multiple datasets. For example, what if we would to obtain a DataFrame containing the **name of the department** and the **country** in which they are based?"
   ]
  },
  {
   "cell_type": "code",
   "execution_count": 240,
   "metadata": {
    "id": "P5xKKazaT1LG"
   },
   "outputs": [
    {
     "data": {
      "text/plain": "         department_name              country_name\n8   Shareholder Services  United States of America\n13            Operations  United States of America\n9               Benefits  United States of America\n21              Shipping  United States of America\n0         Administration  United States of America",
      "text/html": "<div>\n<style scoped>\n    .dataframe tbody tr th:only-of-type {\n        vertical-align: middle;\n    }\n\n    .dataframe tbody tr th {\n        vertical-align: top;\n    }\n\n    .dataframe thead th {\n        text-align: right;\n    }\n</style>\n<table border=\"1\" class=\"dataframe\">\n  <thead>\n    <tr style=\"text-align: right;\">\n      <th></th>\n      <th>department_name</th>\n      <th>country_name</th>\n    </tr>\n  </thead>\n  <tbody>\n    <tr>\n      <th>8</th>\n      <td>Shareholder Services</td>\n      <td>United States of America</td>\n    </tr>\n    <tr>\n      <th>13</th>\n      <td>Operations</td>\n      <td>United States of America</td>\n    </tr>\n    <tr>\n      <th>9</th>\n      <td>Benefits</td>\n      <td>United States of America</td>\n    </tr>\n    <tr>\n      <th>21</th>\n      <td>Shipping</td>\n      <td>United States of America</td>\n    </tr>\n    <tr>\n      <th>0</th>\n      <td>Administration</td>\n      <td>United States of America</td>\n    </tr>\n  </tbody>\n</table>\n</div>"
     },
     "execution_count": 240,
     "metadata": {},
     "output_type": "execute_result"
    }
   ],
   "source": [
    "(departments_df\n",
    "    .merge(locations_df, on='location_id')\n",
    "    .merge(countries_df, on='country_id')\n",
    "    [['department_name', 'country_name']]\n",
    ").sample(5, random_state=42)"
   ]
  },
  {
   "cell_type": "markdown",
   "metadata": {
    "id": "Gr39ff4mT1LH"
   },
   "source": [
    "## Checkpoint"
   ]
  },
  {
   "cell_type": "markdown",
   "metadata": {
    "id": "KFGs6H5tT1LH"
   },
   "source": [
    "Produce a DataFrame that shows the departments together with the addresses of their locations."
   ]
  },
  {
   "cell_type": "code",
   "execution_count": 241,
   "outputs": [
    {
     "data": {
      "text/plain": "   department_id department_name  manager_id  location_id   street_address  \\\n0             10  Administration       200.0         1700  2004 Charade Rd   \n1             30      Purchasing       114.0         1700  2004 Charade Rd   \n2             90       Executive       100.0         1700  2004 Charade Rd   \n3            100         Finance       108.0         1700  2004 Charade Rd   \n4            110      Accounting       205.0         1700  2004 Charade Rd   \n\n  postal_code     city state_province country_id  \n0       98199  Seattle     Washington         US  \n1       98199  Seattle     Washington         US  \n2       98199  Seattle     Washington         US  \n3       98199  Seattle     Washington         US  \n4       98199  Seattle     Washington         US  ",
      "text/html": "<div>\n<style scoped>\n    .dataframe tbody tr th:only-of-type {\n        vertical-align: middle;\n    }\n\n    .dataframe tbody tr th {\n        vertical-align: top;\n    }\n\n    .dataframe thead th {\n        text-align: right;\n    }\n</style>\n<table border=\"1\" class=\"dataframe\">\n  <thead>\n    <tr style=\"text-align: right;\">\n      <th></th>\n      <th>department_id</th>\n      <th>department_name</th>\n      <th>manager_id</th>\n      <th>location_id</th>\n      <th>street_address</th>\n      <th>postal_code</th>\n      <th>city</th>\n      <th>state_province</th>\n      <th>country_id</th>\n    </tr>\n  </thead>\n  <tbody>\n    <tr>\n      <th>0</th>\n      <td>10</td>\n      <td>Administration</td>\n      <td>200.0</td>\n      <td>1700</td>\n      <td>2004 Charade Rd</td>\n      <td>98199</td>\n      <td>Seattle</td>\n      <td>Washington</td>\n      <td>US</td>\n    </tr>\n    <tr>\n      <th>1</th>\n      <td>30</td>\n      <td>Purchasing</td>\n      <td>114.0</td>\n      <td>1700</td>\n      <td>2004 Charade Rd</td>\n      <td>98199</td>\n      <td>Seattle</td>\n      <td>Washington</td>\n      <td>US</td>\n    </tr>\n    <tr>\n      <th>2</th>\n      <td>90</td>\n      <td>Executive</td>\n      <td>100.0</td>\n      <td>1700</td>\n      <td>2004 Charade Rd</td>\n      <td>98199</td>\n      <td>Seattle</td>\n      <td>Washington</td>\n      <td>US</td>\n    </tr>\n    <tr>\n      <th>3</th>\n      <td>100</td>\n      <td>Finance</td>\n      <td>108.0</td>\n      <td>1700</td>\n      <td>2004 Charade Rd</td>\n      <td>98199</td>\n      <td>Seattle</td>\n      <td>Washington</td>\n      <td>US</td>\n    </tr>\n    <tr>\n      <th>4</th>\n      <td>110</td>\n      <td>Accounting</td>\n      <td>205.0</td>\n      <td>1700</td>\n      <td>2004 Charade Rd</td>\n      <td>98199</td>\n      <td>Seattle</td>\n      <td>Washington</td>\n      <td>US</td>\n    </tr>\n  </tbody>\n</table>\n</div>"
     },
     "execution_count": 241,
     "metadata": {},
     "output_type": "execute_result"
    }
   ],
   "source": [
    "located_departments_df=departments_df.merge(locations_df, on='location_id')\n",
    "located_departments_df.head()"
   ],
   "metadata": {
    "collapsed": false
   }
  },
  {
   "cell_type": "markdown",
   "metadata": {
    "id": "jfJNRT5UT1LH"
   },
   "source": [
    "Produce a DataFrame containing the name of the department and the cities in which they are based."
   ]
  },
  {
   "cell_type": "code",
   "execution_count": 242,
   "outputs": [
    {
     "data": {
      "text/plain": "   department_id department_name     city\n0             10  Administration  Seattle\n1             30      Purchasing  Seattle\n2             90       Executive  Seattle\n3            100         Finance  Seattle\n4            110      Accounting  Seattle",
      "text/html": "<div>\n<style scoped>\n    .dataframe tbody tr th:only-of-type {\n        vertical-align: middle;\n    }\n\n    .dataframe tbody tr th {\n        vertical-align: top;\n    }\n\n    .dataframe thead th {\n        text-align: right;\n    }\n</style>\n<table border=\"1\" class=\"dataframe\">\n  <thead>\n    <tr style=\"text-align: right;\">\n      <th></th>\n      <th>department_id</th>\n      <th>department_name</th>\n      <th>city</th>\n    </tr>\n  </thead>\n  <tbody>\n    <tr>\n      <th>0</th>\n      <td>10</td>\n      <td>Administration</td>\n      <td>Seattle</td>\n    </tr>\n    <tr>\n      <th>1</th>\n      <td>30</td>\n      <td>Purchasing</td>\n      <td>Seattle</td>\n    </tr>\n    <tr>\n      <th>2</th>\n      <td>90</td>\n      <td>Executive</td>\n      <td>Seattle</td>\n    </tr>\n    <tr>\n      <th>3</th>\n      <td>100</td>\n      <td>Finance</td>\n      <td>Seattle</td>\n    </tr>\n    <tr>\n      <th>4</th>\n      <td>110</td>\n      <td>Accounting</td>\n      <td>Seattle</td>\n    </tr>\n  </tbody>\n</table>\n</div>"
     },
     "execution_count": 242,
     "metadata": {},
     "output_type": "execute_result"
    }
   ],
   "source": [
    "located_departments_df_sub=located_departments_df[['department_id', 'department_name', 'city']]\n",
    "located_departments_df_sub.head()"
   ],
   "metadata": {
    "collapsed": false
   }
  },
  {
   "cell_type": "markdown",
   "metadata": {
    "id": "WCNE9JxfT1LH"
   },
   "source": [
    "Produce a DataFrame with the name of the department and the name of the country in which they are based."
   ]
  },
  {
   "cell_type": "code",
   "execution_count": 243,
   "outputs": [
    {
     "data": {
      "text/plain": "   department_id department_name              country_name\n0             10  Administration  United States of America\n1             30      Purchasing  United States of America\n2             90       Executive  United States of America\n3            100         Finance  United States of America\n4            110      Accounting  United States of America",
      "text/html": "<div>\n<style scoped>\n    .dataframe tbody tr th:only-of-type {\n        vertical-align: middle;\n    }\n\n    .dataframe tbody tr th {\n        vertical-align: top;\n    }\n\n    .dataframe thead th {\n        text-align: right;\n    }\n</style>\n<table border=\"1\" class=\"dataframe\">\n  <thead>\n    <tr style=\"text-align: right;\">\n      <th></th>\n      <th>department_id</th>\n      <th>department_name</th>\n      <th>country_name</th>\n    </tr>\n  </thead>\n  <tbody>\n    <tr>\n      <th>0</th>\n      <td>10</td>\n      <td>Administration</td>\n      <td>United States of America</td>\n    </tr>\n    <tr>\n      <th>1</th>\n      <td>30</td>\n      <td>Purchasing</td>\n      <td>United States of America</td>\n    </tr>\n    <tr>\n      <th>2</th>\n      <td>90</td>\n      <td>Executive</td>\n      <td>United States of America</td>\n    </tr>\n    <tr>\n      <th>3</th>\n      <td>100</td>\n      <td>Finance</td>\n      <td>United States of America</td>\n    </tr>\n    <tr>\n      <th>4</th>\n      <td>110</td>\n      <td>Accounting</td>\n      <td>United States of America</td>\n    </tr>\n  </tbody>\n</table>\n</div>"
     },
     "execution_count": 243,
     "metadata": {},
     "output_type": "execute_result"
    }
   ],
   "source": [
    "department_country_df=located_departments_df.merge(countries_df, on='country_id')\n",
    "department_country_df_sub=department_country_df[['department_id','department_name','country_name']]\n",
    "department_country_df_sub.head()"
   ],
   "metadata": {
    "collapsed": false
   }
  },
  {
   "cell_type": "markdown",
   "metadata": {
    "id": "HxK0TzH3T1LH"
   },
   "source": [
    "Produce a DataFrame with the name of the department and the name of the region of the world in which they are based.\n"
   ]
  },
  {
   "cell_type": "code",
   "execution_count": 244,
   "outputs": [
    {
     "data": {
      "text/plain": "   department_id department_name region_name\n0             10  Administration    Americas\n1             30      Purchasing    Americas\n2             90       Executive    Americas\n3            100         Finance    Americas\n4            110      Accounting    Americas",
      "text/html": "<div>\n<style scoped>\n    .dataframe tbody tr th:only-of-type {\n        vertical-align: middle;\n    }\n\n    .dataframe tbody tr th {\n        vertical-align: top;\n    }\n\n    .dataframe thead th {\n        text-align: right;\n    }\n</style>\n<table border=\"1\" class=\"dataframe\">\n  <thead>\n    <tr style=\"text-align: right;\">\n      <th></th>\n      <th>department_id</th>\n      <th>department_name</th>\n      <th>region_name</th>\n    </tr>\n  </thead>\n  <tbody>\n    <tr>\n      <th>0</th>\n      <td>10</td>\n      <td>Administration</td>\n      <td>Americas</td>\n    </tr>\n    <tr>\n      <th>1</th>\n      <td>30</td>\n      <td>Purchasing</td>\n      <td>Americas</td>\n    </tr>\n    <tr>\n      <th>2</th>\n      <td>90</td>\n      <td>Executive</td>\n      <td>Americas</td>\n    </tr>\n    <tr>\n      <th>3</th>\n      <td>100</td>\n      <td>Finance</td>\n      <td>Americas</td>\n    </tr>\n    <tr>\n      <th>4</th>\n      <td>110</td>\n      <td>Accounting</td>\n      <td>Americas</td>\n    </tr>\n  </tbody>\n</table>\n</div>"
     },
     "execution_count": 244,
     "metadata": {},
     "output_type": "execute_result"
    }
   ],
   "source": [
    "department_region_df=department_country_df.merge(regions_df, on='region_id')\n",
    "department_region_df=department_region_df[['department_id','department_name','region_name']]\n",
    "department_region_df.head()"
   ],
   "metadata": {
    "collapsed": false
   }
  },
  {
   "cell_type": "markdown",
   "metadata": {
    "id": "cJ00saRpT1LH"
   },
   "source": [
    "Produce a DataFrame with the top-5 earners in the IT and Sales department."
   ]
  },
  {
   "cell_type": "markdown",
   "metadata": {
    "id": "bsancDT0T1LH"
   },
   "source": [
    "Produce a DataFrame with the top-10 earners in United Kingdom. In the output, include only the employee's name and salary, and the name of the deparment they work for."
   ]
  },
  {
   "cell_type": "markdown",
   "metadata": {
    "id": "Y1JpQDrTT1LH"
   },
   "source": [
    "How many employess work in Canada?"
   ]
  }
 ],
 "metadata": {
  "colab": {
   "collapsed_sections": [],
   "name": "7z1018-20_21-w3-concat_merge.ipynb",
   "provenance": []
  },
  "kernelspec": {
   "display_name": "Python 3 (ipykernel)",
   "language": "python",
   "name": "python3"
  },
  "language_info": {
   "codemirror_mode": {
    "name": "ipython",
    "version": 3
   },
   "file_extension": ".py",
   "mimetype": "text/x-python",
   "name": "python",
   "nbconvert_exporter": "python",
   "pygments_lexer": "ipython3",
   "version": "3.10.5"
  },
  "toc": {
   "base_numbering": 1,
   "colors": {
    "hover_highlight": "#DAA520",
    "navigate_num": "#000000",
    "navigate_text": "#333333",
    "running_highlight": "#FF0000",
    "selected_highlight": "#FFD700",
    "sidebar_border": "#EEEEEE",
    "wrapper_background": "#FFFFFF"
   },
   "moveMenuLeft": true,
   "nav_menu": {
    "height": "134px",
    "width": "252px"
   },
   "navigate_menu": true,
   "number_sections": true,
   "sideBar": true,
   "skip_h1_title": false,
   "threshold": 4,
   "title_cell": "Table of Contents",
   "title_sidebar": "Contents",
   "toc_cell": true,
   "toc_position": {},
   "toc_section_display": "block",
   "toc_window_display": false,
   "widenNotebook": false
  }
 },
 "nbformat": 4,
 "nbformat_minor": 4
}
